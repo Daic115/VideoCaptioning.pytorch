{
 "cells": [
  {
   "cell_type": "code",
   "execution_count": 1,
   "metadata": {},
   "outputs": [],
   "source": [
    "import os\n",
    "import cv2\n",
    "import json\n",
    "import numpy as np\n",
    "import pandas as pd\n",
    "import seaborn as sns\n",
    "import matplotlib.pyplot as plt\n",
    "\n",
    "from collections import Counter\n",
    "\n",
    "pd.set_option('display.max_columns', 50)\n",
    "pd.set_option('display.max_rows', 150)"
   ]
  },
  {
   "cell_type": "code",
   "execution_count": 2,
   "metadata": {},
   "outputs": [
    {
     "name": "stdout",
     "output_type": "stream",
     "text": [
      "'MSR Video Description Corpus.csv'   train.csv\t\t valid.list\n",
      " test.csv\t\t\t     train.list\t\t val_tokens.json\n",
      " test.list\t\t\t     train_tokens.json\n",
      " test_tokens.json\t\t     val.csv\n"
     ]
    }
   ],
   "source": [
    "! ls /home/daic/VideoCaption/RecNet/data/MSVD/metadata"
   ]
  },
  {
   "cell_type": "code",
   "execution_count": 3,
   "metadata": {},
   "outputs": [
    {
     "name": "stdout",
     "output_type": "stream",
     "text": [
      "test.json\t\t total.json  train_val_videodatainfo.json\n",
      "test.list\t\t train.json  valid.list\n",
      "test_videodatainfo.json  train.list  val.json\n"
     ]
    }
   ],
   "source": [
    "! ls /home/daic/VideoCaption/RecNet/data/MSR-VTT/metadata"
   ]
  },
  {
   "cell_type": "markdown",
   "metadata": {},
   "source": [
    "# MSVD :\n",
    "## original datas:"
   ]
  },
  {
   "cell_type": "code",
   "execution_count": 4,
   "metadata": {},
   "outputs": [
    {
     "data": {
      "text/html": [
       "<div>\n",
       "<style scoped>\n",
       "    .dataframe tbody tr th:only-of-type {\n",
       "        vertical-align: middle;\n",
       "    }\n",
       "\n",
       "    .dataframe tbody tr th {\n",
       "        vertical-align: top;\n",
       "    }\n",
       "\n",
       "    .dataframe thead th {\n",
       "        text-align: right;\n",
       "    }\n",
       "</style>\n",
       "<table border=\"1\" class=\"dataframe\">\n",
       "  <thead>\n",
       "    <tr style=\"text-align: right;\">\n",
       "      <th></th>\n",
       "      <th>VideoID</th>\n",
       "      <th>Start</th>\n",
       "      <th>End</th>\n",
       "      <th>WorkerID</th>\n",
       "      <th>Source</th>\n",
       "      <th>AnnotationTime</th>\n",
       "      <th>Language</th>\n",
       "      <th>Description</th>\n",
       "    </tr>\n",
       "  </thead>\n",
       "  <tbody>\n",
       "    <tr>\n",
       "      <th>0</th>\n",
       "      <td>mv89psg6zh4</td>\n",
       "      <td>33</td>\n",
       "      <td>46</td>\n",
       "      <td>588702</td>\n",
       "      <td>unverified</td>\n",
       "      <td>55</td>\n",
       "      <td>Slovene</td>\n",
       "      <td>Papagaj se umiva pod tekočo vodo v lijaku.</td>\n",
       "    </tr>\n",
       "    <tr>\n",
       "      <th>1</th>\n",
       "      <td>mv89psg6zh4</td>\n",
       "      <td>33</td>\n",
       "      <td>46</td>\n",
       "      <td>588702</td>\n",
       "      <td>unverified</td>\n",
       "      <td>37</td>\n",
       "      <td>Slovene</td>\n",
       "      <td>Papagaj se umiva pod tekočo vodo v lijaku.</td>\n",
       "    </tr>\n",
       "    <tr>\n",
       "      <th>2</th>\n",
       "      <td>mv89psg6zh4</td>\n",
       "      <td>33</td>\n",
       "      <td>46</td>\n",
       "      <td>362812</td>\n",
       "      <td>unverified</td>\n",
       "      <td>11</td>\n",
       "      <td>Macedonian</td>\n",
       "      <td>папагал се бања</td>\n",
       "    </tr>\n",
       "    <tr>\n",
       "      <th>3</th>\n",
       "      <td>mv89psg6zh4</td>\n",
       "      <td>33</td>\n",
       "      <td>46</td>\n",
       "      <td>968828</td>\n",
       "      <td>unverified</td>\n",
       "      <td>84</td>\n",
       "      <td>German</td>\n",
       "      <td>Ein Wellensittich duscht unter einem Wasserhahn.</td>\n",
       "    </tr>\n",
       "    <tr>\n",
       "      <th>4</th>\n",
       "      <td>mv89psg6zh4</td>\n",
       "      <td>33</td>\n",
       "      <td>46</td>\n",
       "      <td>203142</td>\n",
       "      <td>unverified</td>\n",
       "      <td>14</td>\n",
       "      <td>Romanian</td>\n",
       "      <td>o pasare sta intr-o chiuveta.</td>\n",
       "    </tr>\n",
       "    <tr>\n",
       "      <th>5</th>\n",
       "      <td>mv89psg6zh4</td>\n",
       "      <td>33</td>\n",
       "      <td>46</td>\n",
       "      <td>984231</td>\n",
       "      <td>unverified</td>\n",
       "      <td>35</td>\n",
       "      <td>Romanian</td>\n",
       "      <td>Un papagal se spala intr-o chiuveta.</td>\n",
       "    </tr>\n",
       "    <tr>\n",
       "      <th>6</th>\n",
       "      <td>mv89psg6zh4</td>\n",
       "      <td>33</td>\n",
       "      <td>46</td>\n",
       "      <td>130914</td>\n",
       "      <td>unverified</td>\n",
       "      <td>24</td>\n",
       "      <td>Georgian</td>\n",
       "      <td>თუთიყურში რაკოინაში სველდება</td>\n",
       "    </tr>\n",
       "    <tr>\n",
       "      <th>7</th>\n",
       "      <td>mv89psg6zh4</td>\n",
       "      <td>33</td>\n",
       "      <td>46</td>\n",
       "      <td>130914</td>\n",
       "      <td>unverified</td>\n",
       "      <td>19</td>\n",
       "      <td>Georgian</td>\n",
       "      <td>თუთიყურში სველდება რაკოინაში</td>\n",
       "    </tr>\n",
       "    <tr>\n",
       "      <th>8</th>\n",
       "      <td>mv89psg6zh4</td>\n",
       "      <td>33</td>\n",
       "      <td>46</td>\n",
       "      <td>400189</td>\n",
       "      <td>unverified</td>\n",
       "      <td>23</td>\n",
       "      <td>Serbian</td>\n",
       "      <td>Papagaj se tušira u sudoperu.</td>\n",
       "    </tr>\n",
       "    <tr>\n",
       "      <th>9</th>\n",
       "      <td>mv89psg6zh4</td>\n",
       "      <td>33</td>\n",
       "      <td>46</td>\n",
       "      <td>589431</td>\n",
       "      <td>unverified</td>\n",
       "      <td>66</td>\n",
       "      <td>Serbian</td>\n",
       "      <td>Papagaj biva kvašen u sudoperi vodom koja curi...</td>\n",
       "    </tr>\n",
       "  </tbody>\n",
       "</table>\n",
       "</div>"
      ],
      "text/plain": [
       "       VideoID  Start  End  WorkerID      Source  AnnotationTime    Language  \\\n",
       "0  mv89psg6zh4     33   46    588702  unverified              55     Slovene   \n",
       "1  mv89psg6zh4     33   46    588702  unverified              37     Slovene   \n",
       "2  mv89psg6zh4     33   46    362812  unverified              11  Macedonian   \n",
       "3  mv89psg6zh4     33   46    968828  unverified              84      German   \n",
       "4  mv89psg6zh4     33   46    203142  unverified              14    Romanian   \n",
       "5  mv89psg6zh4     33   46    984231  unverified              35    Romanian   \n",
       "6  mv89psg6zh4     33   46    130914  unverified              24    Georgian   \n",
       "7  mv89psg6zh4     33   46    130914  unverified              19    Georgian   \n",
       "8  mv89psg6zh4     33   46    400189  unverified              23     Serbian   \n",
       "9  mv89psg6zh4     33   46    589431  unverified              66     Serbian   \n",
       "\n",
       "                                         Description  \n",
       "0         Papagaj se umiva pod tekočo vodo v lijaku.  \n",
       "1         Papagaj se umiva pod tekočo vodo v lijaku.  \n",
       "2                                    папагал се бања  \n",
       "3   Ein Wellensittich duscht unter einem Wasserhahn.  \n",
       "4                      o pasare sta intr-o chiuveta.  \n",
       "5               Un papagal se spala intr-o chiuveta.  \n",
       "6                       თუთიყურში რაკოინაში სველდება  \n",
       "7                       თუთიყურში სველდება რაკოინაში  \n",
       "8                      Papagaj se tušira u sudoperu.  \n",
       "9  Papagaj biva kvašen u sudoperi vodom koja curi...  "
      ]
     },
     "execution_count": 4,
     "metadata": {},
     "output_type": "execute_result"
    }
   ],
   "source": [
    "msvd_o = pd.read_csv('/home/daic/VideoCaption/RecNet/data/MSVD/metadata/MSR Video Description Corpus.csv')\n",
    "msvd_o.head(10)"
   ]
  },
  {
   "cell_type": "markdown",
   "metadata": {},
   "source": [
    "## split and clean them by whose 'Language' is English"
   ]
  },
  {
   "cell_type": "code",
   "execution_count": 5,
   "metadata": {},
   "outputs": [
    {
     "data": {
      "text/html": [
       "<div>\n",
       "<style scoped>\n",
       "    .dataframe tbody tr th:only-of-type {\n",
       "        vertical-align: middle;\n",
       "    }\n",
       "\n",
       "    .dataframe tbody tr th {\n",
       "        vertical-align: top;\n",
       "    }\n",
       "\n",
       "    .dataframe thead th {\n",
       "        text-align: right;\n",
       "    }\n",
       "</style>\n",
       "<table border=\"1\" class=\"dataframe\">\n",
       "  <thead>\n",
       "    <tr style=\"text-align: right;\">\n",
       "      <th></th>\n",
       "      <th>Unnamed: 0</th>\n",
       "      <th>VideoID</th>\n",
       "      <th>Start</th>\n",
       "      <th>End</th>\n",
       "      <th>WorkerID</th>\n",
       "      <th>Source</th>\n",
       "      <th>AnnotationTime</th>\n",
       "      <th>Language</th>\n",
       "      <th>Description</th>\n",
       "    </tr>\n",
       "  </thead>\n",
       "  <tbody>\n",
       "    <tr>\n",
       "      <th>0</th>\n",
       "      <td>29</td>\n",
       "      <td>ZbzDGXEwtGc</td>\n",
       "      <td>6</td>\n",
       "      <td>15</td>\n",
       "      <td>550906</td>\n",
       "      <td>clean</td>\n",
       "      <td>24</td>\n",
       "      <td>English</td>\n",
       "      <td>a plane flying in the sky</td>\n",
       "    </tr>\n",
       "    <tr>\n",
       "      <th>1</th>\n",
       "      <td>30</td>\n",
       "      <td>ZbzDGXEwtGc</td>\n",
       "      <td>6</td>\n",
       "      <td>15</td>\n",
       "      <td>164462</td>\n",
       "      <td>clean</td>\n",
       "      <td>42</td>\n",
       "      <td>English</td>\n",
       "      <td>A commercial plane flying.</td>\n",
       "    </tr>\n",
       "    <tr>\n",
       "      <th>2</th>\n",
       "      <td>31</td>\n",
       "      <td>ZbzDGXEwtGc</td>\n",
       "      <td>6</td>\n",
       "      <td>15</td>\n",
       "      <td>155632</td>\n",
       "      <td>clean</td>\n",
       "      <td>51</td>\n",
       "      <td>English</td>\n",
       "      <td>A jet is flying.</td>\n",
       "    </tr>\n",
       "    <tr>\n",
       "      <th>3</th>\n",
       "      <td>32</td>\n",
       "      <td>ZbzDGXEwtGc</td>\n",
       "      <td>6</td>\n",
       "      <td>15</td>\n",
       "      <td>617730</td>\n",
       "      <td>clean</td>\n",
       "      <td>27</td>\n",
       "      <td>English</td>\n",
       "      <td>A large jet is flying through the sky.</td>\n",
       "    </tr>\n",
       "    <tr>\n",
       "      <th>4</th>\n",
       "      <td>33</td>\n",
       "      <td>ZbzDGXEwtGc</td>\n",
       "      <td>6</td>\n",
       "      <td>15</td>\n",
       "      <td>297776</td>\n",
       "      <td>clean</td>\n",
       "      <td>28</td>\n",
       "      <td>English</td>\n",
       "      <td>A passenger plane flies through the air.</td>\n",
       "    </tr>\n",
       "    <tr>\n",
       "      <th>5</th>\n",
       "      <td>34</td>\n",
       "      <td>ZbzDGXEwtGc</td>\n",
       "      <td>6</td>\n",
       "      <td>15</td>\n",
       "      <td>807872</td>\n",
       "      <td>clean</td>\n",
       "      <td>17</td>\n",
       "      <td>English</td>\n",
       "      <td>A plane flies through the air.</td>\n",
       "    </tr>\n",
       "    <tr>\n",
       "      <th>6</th>\n",
       "      <td>35</td>\n",
       "      <td>ZbzDGXEwtGc</td>\n",
       "      <td>6</td>\n",
       "      <td>15</td>\n",
       "      <td>825347</td>\n",
       "      <td>clean</td>\n",
       "      <td>11</td>\n",
       "      <td>English</td>\n",
       "      <td>A plane is flying in the air.</td>\n",
       "    </tr>\n",
       "    <tr>\n",
       "      <th>7</th>\n",
       "      <td>36</td>\n",
       "      <td>ZbzDGXEwtGc</td>\n",
       "      <td>6</td>\n",
       "      <td>15</td>\n",
       "      <td>922727</td>\n",
       "      <td>clean</td>\n",
       "      <td>18</td>\n",
       "      <td>English</td>\n",
       "      <td>A plane is flying.</td>\n",
       "    </tr>\n",
       "    <tr>\n",
       "      <th>8</th>\n",
       "      <td>37</td>\n",
       "      <td>ZbzDGXEwtGc</td>\n",
       "      <td>6</td>\n",
       "      <td>15</td>\n",
       "      <td>878566</td>\n",
       "      <td>clean</td>\n",
       "      <td>35</td>\n",
       "      <td>English</td>\n",
       "      <td>A South African Airways plane is flying in a b...</td>\n",
       "    </tr>\n",
       "    <tr>\n",
       "      <th>9</th>\n",
       "      <td>38</td>\n",
       "      <td>ZbzDGXEwtGc</td>\n",
       "      <td>6</td>\n",
       "      <td>15</td>\n",
       "      <td>615204</td>\n",
       "      <td>clean</td>\n",
       "      <td>39</td>\n",
       "      <td>English</td>\n",
       "      <td>An aeroplane is flying in the air.</td>\n",
       "    </tr>\n",
       "  </tbody>\n",
       "</table>\n",
       "</div>"
      ],
      "text/plain": [
       "   Unnamed: 0      VideoID  Start  End  WorkerID Source  AnnotationTime  \\\n",
       "0          29  ZbzDGXEwtGc      6   15    550906  clean              24   \n",
       "1          30  ZbzDGXEwtGc      6   15    164462  clean              42   \n",
       "2          31  ZbzDGXEwtGc      6   15    155632  clean              51   \n",
       "3          32  ZbzDGXEwtGc      6   15    617730  clean              27   \n",
       "4          33  ZbzDGXEwtGc      6   15    297776  clean              28   \n",
       "5          34  ZbzDGXEwtGc      6   15    807872  clean              17   \n",
       "6          35  ZbzDGXEwtGc      6   15    825347  clean              11   \n",
       "7          36  ZbzDGXEwtGc      6   15    922727  clean              18   \n",
       "8          37  ZbzDGXEwtGc      6   15    878566  clean              35   \n",
       "9          38  ZbzDGXEwtGc      6   15    615204  clean              39   \n",
       "\n",
       "  Language                                        Description  \n",
       "0  English                          a plane flying in the sky  \n",
       "1  English                         A commercial plane flying.  \n",
       "2  English                                   A jet is flying.  \n",
       "3  English             A large jet is flying through the sky.  \n",
       "4  English           A passenger plane flies through the air.  \n",
       "5  English                     A plane flies through the air.  \n",
       "6  English                      A plane is flying in the air.  \n",
       "7  English                                 A plane is flying.  \n",
       "8  English  A South African Airways plane is flying in a b...  \n",
       "9  English                 An aeroplane is flying in the air.  "
      ]
     },
     "execution_count": 5,
     "metadata": {},
     "output_type": "execute_result"
    }
   ],
   "source": [
    "msvd_tr = pd.read_csv('/home/daic/VideoCaption/RecNet/data/MSVD/metadata/train.csv')\n",
    "msvd_tr.head(10)"
   ]
  },
  {
   "cell_type": "markdown",
   "metadata": {},
   "source": [
    "## the train\\val\\test clips length are : 1200, 100, 670"
   ]
  },
  {
   "cell_type": "code",
   "execution_count": 6,
   "metadata": {},
   "outputs": [
    {
     "name": "stdout",
     "output_type": "stream",
     "text": [
      "882 1200\n"
     ]
    }
   ],
   "source": [
    "VideoID_set = set(msvd_tr['VideoID'])\n",
    "VideoID_clip_set = set()\n",
    "for ix in range(len(msvd_tr)):\n",
    "    name = str(msvd_tr.iloc[ix]['VideoID']) + '_' + str(msvd_tr.iloc[ix]['Start']) + '_' + str(msvd_tr.iloc[ix]['End'])\n",
    "    VideoID_clip_set.add(name)\n",
    "print(len(VideoID_set),len(VideoID_clip_set))"
   ]
  },
  {
   "cell_type": "markdown",
   "metadata": {},
   "source": [
    "## check 'Source' : only two categories ('clean' and 'unverified')"
   ]
  },
  {
   "cell_type": "code",
   "execution_count": 7,
   "metadata": {},
   "outputs": [
    {
     "name": "stdout",
     "output_type": "stream",
     "text": [
      "['a plane flying in the sky', 'a commercial plane flying.', 'a jet is flying.', 'a large jet is flying through the sky.', 'a passenger plane flies through the air.', 'a plane flies through the air.', 'a plane is flying in the air.', 'a plane is flying.', 'a south african airways plane is flying in a blue sky.', 'an aeroplane is flying in the air.', 'an airplane is flying in the air.', 'an airplane is flying in the clear sky.', 'an airplane is flying in the sky.', 'an airplane is flying.', 'an airplane is flying.', 'the plane flew in the sky.', 'the plane is soaring through the air.', 'the south african jet banked itself in the air.', 'a woman cuts an oion.', 'a girl is cutting an onion.', 'a girl is cutting an onion.', 'a girl is cutting onion into small pieces.', 'a girl is dicing up an onion.', 'a woman chops a white onion.', 'a woman cuts and dices an onion.', 'a woman is chopping an onion into small pieces.', 'a woman is chopping an onion slice into fine pieces.', 'a woman is cutting onions.', 'a woman is slicing a onion.', 'a woman is slicing some vegetables.', 'a woman slices an onion.', 'an onion is chopped up.', 'the cook is dicing onions.', 'the girl is slicing an onion.', 'a band is performing for a large crowd.', 'a band is performing on a stage outside.', 'a band is performing out stage.', 'a band is playing for a group of people.', 'a band is playing outside.', 'a band is playing to a large crowd.']\n",
      "['the airplane is flying in air', 'an airplane flying.', 'a south african airplane flying sideways in the sky.', 'the avión, airplane is flying high in the sky.', 'a plane is flying.', 'an aeroplane flying in the sky.', 'an aeroplane is flying.', 'an aeroplane is flying.', 'a flight is flying in the sky.', 'a south african flight is flying.', 'an airplane is flying with blue sky in the background.', 'aeroplane is fling in mid-air.', 'an airplane is flying in the air.', 'south african aeroplane js moving in the air', 'a plane is flying in air', 'a commercial jet if flying', 'an airplane flying in the sky.', 'an airoplane is flying in the sky', 'a flight is flying.', 'a clip showing an south african airline plane flying in air.', 'a south african airplane is flying.', 'an airplane flying in the sky', 'an airplane is flying through the air.', 'an airplane is flying.', 'an plane is flying in the sky.', 'a flying airplane', 'a airplane in the air', 'a south american plane takes a turn in air.', 'the plane is soaring through the air.', 'an avion airoplane is flying', 'a aeroplane is flying', 'a plain is fly in the sky.', 'avion airplane', 'a woman is cutting the tomato into pieces', 'a woman is slicing an onion.', 'a young woman cutting an onion to make salsa.', 'a girl is chopping onions.', 'a girl is slicing an onion.', 'a lady is chopping onions.', 'a woman cuts an onion.']\n"
     ]
    }
   ],
   "source": [
    "clean_sents = []\n",
    "unverified_sents = []\n",
    "for ix in range(500):\n",
    "    if msvd_tr.iloc[ix]['Source'] == 'clean':\n",
    "        clean_sents.append(msvd_tr.iloc[ix]['Description'].lower())\n",
    "    else:\n",
    "        unverified_sents.append(msvd_tr.iloc[ix]['Description'].lower())\n",
    "print(clean_sents[:40])\n",
    "print(unverified_sents[:40])"
   ]
  },
  {
   "cell_type": "markdown",
   "metadata": {},
   "source": [
    "## as you can see there are much more 'unverified' discriptions than 'clean'."
   ]
  },
  {
   "cell_type": "code",
   "execution_count": 8,
   "metadata": {},
   "outputs": [
    {
     "data": {
      "text/plain": [
       "Counter({'clean': 19315, 'unverified': 29464})"
      ]
     },
     "execution_count": 8,
     "metadata": {},
     "output_type": "execute_result"
    }
   ],
   "source": [
    "source_distribute = Counter(list(msvd_tr['Source']))\n",
    "source_distribute"
   ]
  },
  {
   "cell_type": "markdown",
   "metadata": {},
   "source": [
    "## the captions number of each video clip distribution:"
   ]
  },
  {
   "cell_type": "code",
   "execution_count": 9,
   "metadata": {},
   "outputs": [],
   "source": [
    "def apply_clip_id(x):\n",
    "    x['clip_id'] = x['VideoID'] +'_'+ str(x['Start'])+'_' +str(x['End'])\n",
    "    return x\n",
    "msvd_val = pd.read_csv('/home/daic/VideoCaption/RecNet/data/MSVD/metadata/val.csv').apply(apply_clip_id, axis=1)\n",
    "msvd_te = pd.read_csv('/home/daic/VideoCaption/RecNet/data/MSVD/metadata/test.csv').apply(apply_clip_id, axis=1)\n",
    "msvd_tr = msvd_tr.apply(apply_clip_id, axis=1)"
   ]
  },
  {
   "cell_type": "code",
   "execution_count": 10,
   "metadata": {},
   "outputs": [
    {
     "data": {
      "image/png": "[encoded data removed]",
      "text/plain": [
       "<Figure size 432x288 with 1 Axes>"
      ]
     },
     "metadata": {
      "needs_background": "light"
     },
     "output_type": "display_data"
    }
   ],
   "source": [
    "num_caps_tr = list(Counter(list(msvd_tr['clip_id'])).values())\n",
    "num_caps_va = list(Counter(list(msvd_val['clip_id'])).values())\n",
    "num_caps_te = list(Counter(list(msvd_te['clip_id'])).values())\n",
    "\n",
    "ax = sns.boxplot(data=[num_caps_tr,num_caps_va,num_caps_te])\n",
    "plt.xticks([0,1,2], ('Train','Val','Test'))\n",
    "plt.show()"
   ]
  },
  {
   "cell_type": "code",
   "execution_count": 11,
   "metadata": {},
   "outputs": [
    {
     "data": {
      "image/png": "[encoded data removed]",
      "text/plain": [
       "<Figure size 432x288 with 1 Axes>"
      ]
     },
     "metadata": {
      "needs_background": "light"
     },
     "output_type": "display_data"
    }
   ],
   "source": [
    "num_caps_tr_clean = list(Counter(list(msvd_tr[msvd_tr['Source']=='clean']['clip_id'])).values())\n",
    "num_caps_va_clean = list(Counter(list(msvd_val[msvd_val['Source']=='clean']['clip_id'])).values())\n",
    "num_caps_te_clean = list(Counter(list(msvd_te[msvd_te['Source']=='clean']['clip_id'])).values())\n",
    "\n",
    "num_caps_tr_unverified = list(Counter(list(msvd_tr[msvd_tr['Source']!='clean']['clip_id'])).values())\n",
    "num_caps_va_unverified = list(Counter(list(msvd_val[msvd_val['Source']!='clean']['clip_id'])).values())\n",
    "num_caps_te_unverified = list(Counter(list(msvd_te[msvd_te['Source']!='clean']['clip_id'])).values())\n",
    "\n",
    "ax = sns.boxplot(data=[num_caps_tr_clean,num_caps_tr_unverified,\n",
    "                       num_caps_va_clean ,num_caps_va_unverified,\n",
    "                      num_caps_te_clean,num_caps_te_unverified])\n",
    "plt.xticks([0,1,2,3,4,5], ('Train-c','Train-u','Val-c','Val-u','Test-c','Test-u'))\n",
    "# ax.legend(['c clean','u unverify'],loc='best')\n",
    "plt.show()"
   ]
  },
  {
   "cell_type": "markdown",
   "metadata": {},
   "source": [
    "# clean captions and count the distribution of their length"
   ]
  },
  {
   "cell_type": "code",
   "execution_count": 12,
   "metadata": {},
   "outputs": [],
   "source": [
    "from nltk.tokenize import RegexpTokenizer\n",
    "tokenizer = RegexpTokenizer(r'\\w+')"
   ]
  },
  {
   "cell_type": "code",
   "execution_count": 13,
   "metadata": {},
   "outputs": [],
   "source": [
    "TOKENS_SAVE_PATH = '/home/daic/VideoCaption/RecNet/data/MSVD/metadata/'\n",
    "def get_tokens(df):\n",
    "    tokens = {}\n",
    "    for name in set(df['clip_id']):\n",
    "        tokens[name] = {'clean':[],'unverified':[]}\n",
    "    for ix in range(len(df)):\n",
    "        tmp_cap = df.iloc[ix]['Description'].lower()\n",
    "        tmp_id = df.iloc[ix]['clip_id']\n",
    "        tmp_cate = df.iloc[ix]['Source']\n",
    "        tmp_tokens = tokenizer.tokenize(tmp_cap)\n",
    "        tokens[tmp_id][tmp_cate].append(tmp_tokens)\n",
    "    return tokens\n",
    "train_tokens = get_tokens(msvd_tr)\n",
    "val_tokens = get_tokens(msvd_val)\n",
    "test_tokens = get_tokens(msvd_te)\n",
    "# save them\n",
    "json.dump(train_tokens,open(TOKENS_SAVE_PATH + 'train_tokens.json','w'))\n",
    "json.dump(val_tokens,open(TOKENS_SAVE_PATH + 'val_tokens.json','w'))\n",
    "json.dump(test_tokens,open(TOKENS_SAVE_PATH + 'test_tokens.json','w'))"
   ]
  },
  {
   "cell_type": "code",
   "execution_count": 14,
   "metadata": {},
   "outputs": [],
   "source": [
    "all_length = [[],[],[]]\n",
    "train_length = [[],[],[]]\n",
    "val_length = [[],[],[]]\n",
    "test_length = [[],[],[]]\n",
    "for split in ['train','val','test']:\n",
    "    tmp_tokens = locals()[split+'_tokens']\n",
    "    for vid in tmp_tokens.keys():\n",
    "        for sent in tmp_tokens[vid]['clean']:\n",
    "            locals()[split+'_length'][1].append(len(sent))\n",
    "        for sent in tmp_tokens[vid]['unverified']:\n",
    "            locals()[split+'_length'][2].append(len(sent))\n",
    "    locals()[split+'_length'][0] = locals()[split+'_length'][1] + locals()[split+'_length'][2]\n",
    "all_length = [train_length[0]+val_length[0]+test_length[0],\n",
    "              train_length[1]+val_length[1]+test_length[1],\n",
    "              train_length[2]+val_length[2]+test_length[2]] "
   ]
  },
  {
   "cell_type": "code",
   "execution_count": 15,
   "metadata": {},
   "outputs": [
    {
     "data": {
      "image/png": "[encoded data removed]",
      "text/plain": [
       "<Figure size 1152x360 with 1 Axes>"
      ]
     },
     "metadata": {
      "needs_background": "light"
     },
     "output_type": "display_data"
    }
   ],
   "source": [
    "plt.figure(figsize=(16,5))\n",
    "plt.ylim(3, 20)\n",
    "ax = sns.boxplot(data=all_length + train_length + val_length +test_length)\n",
    "plt.xticks([0,1,2,3,4,5,6,7,8,9,10,11], \n",
    "           ('all','all-c','all-u',\n",
    "            'train','train-c','train-u',\n",
    "            'val','val-c','val-u',\n",
    "            'test','test-c','test-u'),fontsize=16)\n",
    "plt.show()"
   ]
  },
  {
   "cell_type": "code",
   "execution_count": 16,
   "metadata": {},
   "outputs": [
    {
     "data": {
      "image/png": "[encoded data removed]",
      "text/plain": [
       "<Figure size 576x360 with 1 Axes>"
      ]
     },
     "metadata": {
      "needs_background": "light"
     },
     "output_type": "display_data"
    }
   ],
   "source": [
    "plt.figure(figsize=(8,5))\n",
    "plt.xlim(3, 20)\n",
    "np_all_lenth = np.array(all_length[0])\n",
    "np_all_lenth[np_all_lenth>20] = 20\n",
    "sns.distplot(np_all_lenth, kde=False, rug=True)\n",
    "plt.xlabel(\"number of sentences for each video clip\")\n",
    "plt.show()"
   ]
  },
  {
   "cell_type": "markdown",
   "metadata": {},
   "source": [
    "## the words distribution and frequency in whole dataset:"
   ]
  },
  {
   "cell_type": "code",
   "execution_count": 17,
   "metadata": {},
   "outputs": [],
   "source": [
    "counts_tr = {}\n",
    "for vid in train_tokens.keys():\n",
    "    for sent in train_tokens[vid]['clean'] + train_tokens[vid]['unverified']:\n",
    "          for w in sent:\n",
    "                counts_tr[w] = counts_tr.get(w, 0) + 1\n",
    "counts_va = {}\n",
    "for vid in val_tokens.keys():\n",
    "    for sent in val_tokens[vid]['clean'] + val_tokens[vid]['unverified']:\n",
    "          for w in sent:\n",
    "                counts_va[w] = counts_va.get(w, 0) + 1\n",
    "counts_te = {}\n",
    "for vid in test_tokens.keys():\n",
    "    for sent in test_tokens[vid]['clean'] + test_tokens[vid]['unverified']:\n",
    "          for w in sent:\n",
    "                counts_te[w] = counts_te.get(w, 0) + 1"
   ]
  },
  {
   "cell_type": "markdown",
   "metadata": {},
   "source": [
    "### check test/val words not in train set:"
   ]
  },
  {
   "cell_type": "code",
   "execution_count": 18,
   "metadata": {},
   "outputs": [
    {
     "name": "stdout",
     "output_type": "stream",
     "text": [
      "4860 train words not in test/val set.\n",
      "['guitasr', 'ben', 'williams', 'blinding', 'slime', 'dumped', 'slimed', 'goo', 'doused', '1984']\n",
      "3203 test/val words not in train set.\n",
      "['motorcylist', 'wrecking', 'slipped', 'stnat', 'spectacular', 'stun', 'thrased', 'pottato', 'chikken', 'chimps']\n"
     ]
    }
   ],
   "source": [
    "tr_ws = counts_tr.keys()\n",
    "te_ws = counts_te.keys()\n",
    "va_ws = counts_va.keys()\n",
    "\n",
    "test_val_w_not_in_train = []\n",
    "train_w_not_in_test_val = []\n",
    "for w in list(te_ws)+list(va_ws):\n",
    "    if w not in tr_ws:\n",
    "        test_val_w_not_in_train.append(w)\n",
    "for w in tr_ws:\n",
    "    if w not in list(te_ws)+list(va_ws):\n",
    "        train_w_not_in_test_val.append(w)\n",
    "        \n",
    "print(\"%d train words not in test/val set.\"%len(train_w_not_in_test_val))\n",
    "print(train_w_not_in_test_val[:10])\n",
    "print(\"%d test/val words not in train set.\"%len(test_val_w_not_in_train))\n",
    "print(test_val_w_not_in_train[:10])"
   ]
  },
  {
   "cell_type": "markdown",
   "metadata": {},
   "source": [
    "### only processing training set!!"
   ]
  },
  {
   "cell_type": "code",
   "execution_count": 21,
   "metadata": {},
   "outputs": [
    {
     "data": {
      "image/png": "[encoded data removed]",
      "text/plain": [
       "<Figure size 1080x360 with 3 Axes>"
      ]
     },
     "metadata": {
      "needs_background": "light"
     },
     "output_type": "display_data"
    }
   ],
   "source": [
    "fig, (ax1, ax2, ax3) = plt.subplots(1,3, figsize=(15,5))\n",
    "sns.distplot(list(counts_tr.values()), ax =ax1).set_ylim(0,0.0002)\n",
    "sns.countplot(list(counts_tr.values()),color=\"c\" ,ax =ax2).set_ylim(1,10)\n",
    "consum = np.cumsum(np.sort(np.array(list(counts_tr.values()))))\n",
    "sns.countplot(consum, color=\"r\" ,ax =ax3).set_ylim(0.99,1.)\n",
    "plt.show()"
   ]
  },
  {
   "cell_type": "code",
   "execution_count": 26,
   "metadata": {},
   "outputs": [
    {
     "name": "stdout",
     "output_type": "stream",
     "text": [
      "words' number which appearence >  0 : 9499\n",
      "words' number which appearence >  1 : 5376\n",
      "words' number which appearence >  2 : 4146\n",
      "words' number which appearence >  3 : 3483\n",
      "words' number which appearence >  4 : 3032\n",
      "words' number which appearence >  5 : 2744\n",
      "words' number which appearence >  6 : 2519\n",
      "words' number which appearence >  7 : 2320\n",
      "words' number which appearence >  8 : 2148\n",
      "words' number which appearence >  9 : 2008\n"
     ]
    }
   ],
   "source": [
    "cou_tr = np.array(list(counts_tr.values()))\n",
    "for num_appear in range(10):\n",
    "    print(\"words' number which appearence > %2d : %4d\"%(num_appear,np.sum(cou_tr>num_appear)))"
   ]
  },
  {
   "cell_type": "code",
   "execution_count": 47,
   "metadata": {},
   "outputs": [
    {
     "data": {
      "text/plain": [
       "227"
      ]
     },
     "execution_count": 47,
     "metadata": {},
     "output_type": "execute_result"
    }
   ],
   "source": [
    "counts_te['monkey']"
   ]
  },
  {
   "cell_type": "code",
   "execution_count": 43,
   "metadata": {},
   "outputs": [
    {
     "data": {
      "text/plain": [
       "False"
      ]
     },
     "execution_count": 43,
     "metadata": {},
     "output_type": "execute_result"
    }
   ],
   "source": [
    "'braid' in va_ws"
   ]
  },
  {
   "cell_type": "markdown",
   "metadata": {},
   "source": [
    "# MSR-VTT"
   ]
  },
  {
   "cell_type": "markdown",
   "metadata": {},
   "source": [
    "## train/val:each video has 20 sentences"
   ]
  },
  {
   "cell_type": "markdown",
   "metadata": {},
   "source": [
    "## train/val sentences length"
   ]
  },
  {
   "cell_type": "code",
   "execution_count": 28,
   "metadata": {},
   "outputs": [],
   "source": [
    "msrvtt_tv = json.load(open('/home/daic/VideoCaption/RecNet/data/MSR-VTT/metadata/train_val_videodatainfo.json'))\n",
    "msrvtt_len = []\n",
    "tokens_vtt = []\n",
    "for sent in msrvtt_tv['sentences']:\n",
    "    tmp_cap = sent['caption']\n",
    "    tmp_token = tokenizer.tokenize(tmp_cap)\n",
    "    tokens_vtt.append(tmp_token)\n",
    "    msrvtt_len.append(len(tmp_token))"
   ]
  },
  {
   "cell_type": "code",
   "execution_count": 51,
   "metadata": {},
   "outputs": [
    {
     "name": "stdout",
     "output_type": "stream",
     "text": [
      "sentences' length > 12 : 24648\n",
      "sentences' length > 13 : 18943\n",
      "sentences' length > 14 : 14608\n",
      "sentences' length > 15 : 11288\n",
      "sentences' length > 16 :  8720\n",
      "sentences' length > 17 :  6841\n",
      "sentences' length > 18 :  5360\n",
      "sentences' length > 19 :  4174\n",
      "sentences' length > 20 :  3262\n",
      "sentences' length > 21 :  2505\n",
      "sentences' length > 22 :  1960\n",
      "sentences' length > 23 :  1543\n",
      "sentences' length > 24 :  1203\n",
      "sentences' length > 25 :   918\n",
      "sentences' length > 26 :   691\n",
      "sentences' length > 27 :   538\n",
      "sentences' length > 28 :   419\n",
      "sentences' length > 29 :   324\n"
     ]
    }
   ],
   "source": [
    "np_msrvtt_len = np.array(msrvtt_len)\n",
    "for max_length in range(12,30):\n",
    "    print(\"sentences' length > %2d : %5d\"%(max_length,np.sum(np_msrvtt_len>max_length)))"
   ]
  },
  {
   "cell_type": "code",
   "execution_count": 29,
   "metadata": {},
   "outputs": [
    {
     "data": {
      "image/png": "[encoded data removed]",
      "text/plain": [
       "<Figure size 288x576 with 1 Axes>"
      ]
     },
     "metadata": {
      "needs_background": "light"
     },
     "output_type": "display_data"
    }
   ],
   "source": [
    "plt.figure(figsize=(4,8))\n",
    "plt.ylim(3, 26)\n",
    "ax = sns.boxplot(data=msrvtt_len)\n",
    "plt.show()"
   ]
  },
  {
   "cell_type": "code",
   "execution_count": 30,
   "metadata": {},
   "outputs": [],
   "source": [
    "counts_tr_vtt = {}\n",
    "for sent in tokens_vtt:\n",
    "      for w in sent:\n",
    "            counts_tr_vtt[w] = counts_tr_vtt.get(w, 0) + 1"
   ]
  },
  {
   "cell_type": "code",
   "execution_count": 44,
   "metadata": {},
   "outputs": [
    {
     "data": {
      "text/plain": [
       "12"
      ]
     },
     "execution_count": 44,
     "metadata": {},
     "output_type": "execute_result"
    }
   ],
   "source": [
    "counts_tr_vtt['braid']"
   ]
  },
  {
   "cell_type": "code",
   "execution_count": 32,
   "metadata": {},
   "outputs": [
    {
     "name": "stdout",
     "output_type": "stream",
     "text": [
      "words' number which appearence >  0 : 23463\n",
      "words' number which appearence >  1 : 13982\n",
      "words' number which appearence >  2 : 10861\n",
      "words' number which appearence >  3 : 9195\n",
      "words' number which appearence >  4 : 8098\n",
      "words' number which appearence >  5 : 7275\n",
      "words' number which appearence >  6 : 6629\n",
      "words' number which appearence >  7 : 6117\n",
      "words' number which appearence >  8 : 5717\n",
      "words' number which appearence >  9 : 5333\n"
     ]
    }
   ],
   "source": [
    "cou_tr_vtt = np.array(list(counts_tr_vtt.values()))\n",
    "for num_appear in range(10):\n",
    "    print(\"words' number which appearence > %2d : %4d\"%(num_appear,np.sum(cou_tr_vtt>num_appear)))"
   ]
  },
  {
   "cell_type": "code",
   "execution_count": null,
   "metadata": {},
   "outputs": [],
   "source": []
  }
 ],
 "metadata": {
  "kernelspec": {
   "display_name": "Python 3",
   "language": "python",
   "name": "python3"
  },
  "language_info": {
   "codemirror_mode": {
    "name": "ipython",
    "version": 3
   },
   "file_extension": ".py",
   "mimetype": "text/x-python",
   "name": "python",
   "nbconvert_exporter": "python",
   "pygments_lexer": "ipython3",
   "version": "3.6.9"
  }
 },
 "nbformat": 4,
 "nbformat_minor": 4
}
