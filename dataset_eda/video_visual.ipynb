{
 "cells": [
  {
   "cell_type": "code",
   "execution_count": 1,
   "metadata": {},
   "outputs": [],
   "source": [
    "import os\n",
    "import cv2\n",
    "import numpy as np\n",
    "import pandas as pd\n",
    "import matplotlib.pyplot as plt"
   ]
  },
  {
   "cell_type": "code",
   "execution_count": 2,
   "metadata": {},
   "outputs": [],
   "source": [
    "from eda_libs import sample_frames_metafunc"
   ]
  },
  {
   "cell_type": "code",
   "execution_count": 3,
   "metadata": {},
   "outputs": [],
   "source": [
    "def show_video(path, stride=5, sample_num = 28):\n",
    "    frame_list, frame_count = sample_frames_metafunc(path,stride)\n",
    "    sampled_idxs = np.linspace(0, len(frame_list) - 1, sample_num, dtype=int)\n",
    "    showing_frames = frame_list[sampled_idxs]\n",
    "    plt.figure(num='astronaut',figsize=(16,9))\n",
    "    for ix in range(sample_num):\n",
    "        plt.subplot(4,7,ix+1)\n",
    "        plt.title(str(ix))\n",
    "        plt.imshow(showing_frames[ix])\n",
    "        plt.axis('off')\n",
    "    plt.show()"
   ]
  },
  {
   "cell_type": "code",
   "execution_count": 4,
   "metadata": {},
   "outputs": [],
   "source": [
    "VIDEO_PATH = '/home/daic/VideoCaption/RecNet/data/MSVD/video'\n",
    "VIDEO_NAME = ''\n",
    "PRE_PATH = '/home/daic/VideoCaption/RecNet/results/MSVD_salstm_3dres101_test.csv'"
   ]
  },
  {
   "cell_type": "code",
   "execution_count": 8,
   "metadata": {},
   "outputs": [],
   "source": [
    "from eda_libs import *\n",
    "pre = pd.read_csv(PRE_PATH,header=None)"
   ]
  },
  {
   "cell_type": "code",
   "execution_count": 9,
   "metadata": {},
   "outputs": [
    {
     "ename": "NameError",
     "evalue": "name 'bleuD' is not defined",
     "output_type": "error",
     "traceback": [
      "\u001b[0;31m---------------------------------------------------------------------------\u001b[0m",
      "\u001b[0;31mNameError\u001b[0m                                 Traceback (most recent call last)",
      "\u001b[0;32m<ipython-input-9-ac2019bc0868>\u001b[0m in \u001b[0;36m<module>\u001b[0;34m\u001b[0m\n\u001b[0;32m----> 1\u001b[0;31m bleuD(['can be trained to produce sequences of tokens','trained to produce sequences of'],\n\u001b[0m\u001b[1;32m      2\u001b[0m       'trained to produce sequences of tokens',opt = 'shortest')\n",
      "\u001b[0;31mNameError\u001b[0m: name 'bleuD' is not defined"
     ]
    }
   ],
   "source": [
    "bleuD(['can be trained to produce sequences of tokens','trained to produce sequences of'],\n",
    "      'trained to produce sequences of tokens',opt = 'shortest')"
   ]
  }
 ],
 "metadata": {
  "kernelspec": {
   "display_name": "Python 3",
   "language": "python",
   "name": "python3"
  },
  "language_info": {
   "codemirror_mode": {
    "name": "ipython",
    "version": 3
   },
   "file_extension": ".py",
   "mimetype": "text/x-python",
   "name": "python",
   "nbconvert_exporter": "python",
   "pygments_lexer": "ipython3",
   "version": "3.6.9"
  }
 },
 "nbformat": 4,
 "nbformat_minor": 4
}
